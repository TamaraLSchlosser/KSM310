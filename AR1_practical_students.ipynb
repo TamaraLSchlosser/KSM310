{
  "metadata": {
    "kernelspec": {
      "name": "python",
      "display_name": "Python (Pyodide)",
      "language": "python"
    },
    "language_info": {
      "codemirror_mode": {
        "name": "python",
        "version": 3
      },
      "file_extension": ".py",
      "mimetype": "text/x-python",
      "name": "python",
      "nbconvert_exporter": "python",
      "pygments_lexer": "ipython3",
      "version": "3.8"
    }
  },
  "nbformat_minor": 5,
  "nbformat": 4,
  "cells": [
    {
      "id": "d12e851d-d9e3-441e-9666-75506de8d024",
      "cell_type": "code",
      "source": "import matplotlib.pyplot as plt\nimport numpy as np\nimport xarray as xr\nfrom datetime import datetime\nfrom statsmodels.tsa.ar_model import AutoReg\nfrom scipy.ndimage import uniform_filter1d,gaussian_filter1d",
      "metadata": {
        "trusted": true
      },
      "outputs": [],
      "execution_count": null
    },
    {
      "id": "3629a713-7b14-4fd9-981d-363191b93016",
      "cell_type": "code",
      "source": "#%% Read SST and pick out locations of interest\n# Open the netCDF file and read the SST data\nfile_path = \"sst.mnmean.nc\"  # Uploaded into Data folder in the File Browser window\ndataset = xr.open_dataset(file_path,decode_times=True)\n\n# Extract latitude, longitude, and SST variables\nlats = dataset['lat'].values\nlons = dataset['lon'].values\nsst = dataset['sst'].values # time, lat, lon\n\ntime = dataset['time'].values\n\n# Debug: Check the converted time\nprint(\"Converted time example:\", time[:5])\n\n# Close the dataset\ndataset.close()\n\n# function to find closest grid cell\ndef find_index(x,y):\n    lat_idx = np.abs(lats - y).argmin()  # Find index of nearest latitude\n    lon_idx = np.abs(lons - x).argmin()  # Find index of nearest longitude\n    return lon_idx, lat_idx\n\n# testing it works\nthisLong, thisLat = find_index(16,5)\nprint([thisLong, thisLat])\nprint(lons[thisLong])\nprint(lats[thisLat])\n\n# Define the locations of interest (latitude, longitude)\nlocations = [\n    {\"name\": \"Byron Bay\", \"lat\": -28.7, \"lon\": 156},\n    {\"name\": \"Perth\", \"lat\": -32, \"lon\": 115},\n]\nnloc=len(locations)\n\nsst_values = np.full((nloc, len(time)), np.nan)\nfor ii, loc in enumerate(locations):  # Enumerate provides the index (i) and the location (loc)\n    lon_idx, lat_idx = find_index(loc[\"lon\"],loc[\"lat\"])\n    sst_values[ii, :] = np.squeeze(sst[:, lat_idx, lon_idx])  # Assign the time series for this location, and squeeze to reduce dimensions\n\n# focus on last 30 years\ntind=time>=np.datetime64(\"1994-01-01\")\nyear=(time[tind]-np.min(time[tind])).astype('timedelta64[D]').astype('float32') / 365.25\nsst_values=sst_values[:,tind]\ntime=time[tind]\n\n# smooth or filter out seasonal variability\n# smooth via a 12-month running mean\nsst_smooth= uniform_filter1d(sst_values, size=12, axis=1,mode='nearest')\n# also try low-pass filter.\nsst_lowpass=gaussian_filter1d(sst_values, sigma=10, axis=1)",
      "metadata": {
        "trusted": true
      },
      "outputs": [],
      "execution_count": null
    },
    {
      "id": "528a7541-9d7c-4b9a-924c-e14967c8aa4c",
      "cell_type": "code",
      "source": "#%% for seminar\nplt.figure(figsize=(8,3))\nplt.plot(time, sst_values[0,:], label=\"raw\",linewidth=2)\nplt.plot(time, sst_smooth[0,:], label=\"smoothed\",linewidth=4)\nplt.plot(time, sst_lowpass[0,:], label=\"filter\",linewidth=4)\nplt.legend()\nplt.xlabel('Year')\nplt.ylabel('Sea Surface Temperature (°C)')\nplt.tight_layout()\nplt.xlim(time[0], time[-1])\nplt.savefig(\"Byron_SST.jpg\", dpi=600, bbox_inches='tight')\n\n# I like the filtered result so I'll use that",
      "metadata": {
        "trusted": true
      },
      "outputs": [],
      "execution_count": null
    },
    {
      "id": "4619267f-e021-49de-834f-08eb4ba88d44",
      "cell_type": "code",
      "source": "#%% Plot the SST values for the locations\n# Define the x-axis limits (use datetime objects for time)\nstart_date = datetime(1992, 1, 1)\nend_date = datetime(2022, 1, 1)\n\nplt.figure(figsize=(6, 4))\nfor ii, loc in enumerate(locations):\n    plt.plot(time, sst_values[ii, :], label=loc[\"name\"])  # Plot SST for each location\n\n# Set x-axis limits\nplt.xlim(start_date, end_date)\n\nplt.title(\"Sea Surface Temperature (SST) at Selected Locations\")\nplt.ylabel(\"SST (°C)\")\nplt.xlabel(\"year\")\n\n# Rotate date labels for better visibility\nplt.gcf().autofmt_xdate()\n\n#plt.grid(axis=\"y\", linestyle=\"--\", alpha=0.7)\nplt.legend(title=\"Locations\",loc=\"upper left\", fontsize=10)\nplt.grid(True)\nplt.tight_layout()\nplt.show()",
      "metadata": {
        "trusted": true
      },
      "outputs": [],
      "execution_count": null
    },
    {
      "id": "18dd11ef-9a22-44f6-b27e-82dec257dc79",
      "cell_type": "code",
      "source": "#%% Compute the long-term trend over last 30 years\ntrends = np.zeros(nloc)\nfitted = np.full((nloc,len(year)),np.nan)\nfor ii in range(nloc):\n    trend = np.polyfit(year, sst_lowpass[ii,:], 1)  # Linear trend (slope, intercept)\n    trends[ii]=trend[0] # deg C/year\n    fitted[ii,:]=np.polyval(trend, year)\n\n# Output trend values\nfor ii, trends in enumerate(trends):\n    print(f\"Location {ii+1}: 30-year trend = {trends}\")\n\n# plot trend lines\nplt.figure(figsize=(6, 4))\nfor ii, loc in enumerate(locations):\n    plt.plot(time, sst_values[ii, :], label=loc[\"name\"])  # Plot SST for each location\n    plt.plot(time,fitted[ii,:],'--')",
      "metadata": {
        "trusted": true
      },
      "outputs": [],
      "execution_count": null
    },
    {
      "id": "654a9da8-fef0-4633-993c-5705f829f6b9",
      "cell_type": "code",
      "source": "#%% thermal stress\nthermal_stress_temp = np.percentile(sst_values, 95,axis=1) # SST threshold for thermal stress\n\nplt.figure(figsize=(6,3))\nfor ii,loc in enumerate(locations):\n    plt.plot(time, sst_values[ii,:], label=loc[\"name\"])\n    # now add a red cross for thermal stress events\n    stress_ind=sst_values[ii,:]>thermal_stress_temp[ii]\n    plt.scatter(time[stress_ind],sst_values[ii,stress_ind],marker='x',c='red',label=\"stress\")\n",
      "metadata": {
        "trusted": true
      },
      "outputs": [],
      "execution_count": null
    },
    {
      "id": "214e6a76-d2b2-44cd-8201-73475c44a5ed",
      "cell_type": "code",
      "source": "#%% Fitting Auto-Regressive (AR1) model to SST data\n# generate the future 10 years time variable\nyear_diff_median = np.median(np.diff(year))\nn10=int(np.round(10/year_diff_median))\ntime_diff_median = np.median(np.diff(time))\nfuture10 = np.arange(time[-1]+time_diff_median, time[-1]+time_diff_median*(n10+1),time_diff_median)\n\n# Fit the AR1 model and predict for the next n10 years\npredictions1 = np.full((nloc,n10),np.nan)\nar1_coefficients = []\n\n# Let's also save xi so we can see how the 'forcing' impacts our prediction\nrng = np.random.default_rng()  # Optional: set seed for reproducibility seed=42\nincrease_noise=2 # feel free to change this if you want more 'oscillatory' results\nxi=np.full((nloc,n10),np.nan) # our noise/forcing\n\nfor ii in range(sst_values.shape[0]):\n    # fit easing least-squares\n    model = AutoReg(sst_lowpass[ii,:], lags=1)\n    model_fitted = model.fit()\n    \n    intercept = model_fitted.params[0]\n    alpha = model_fitted.params[1]  # AR1 coefficient\n    residual_std = np.std(model_fitted.resid)# residual standard deviation, used to scale noise/forcing/xi\n    \n    # Initialize prediction array\n    pred = np.zeros(n10)\n    # define our xi or forcing\n    xi[ii,:]=residual_std * rng.normal(size=n10) * increase_noise\n    # find first forecasted value\n    pred[0] = alpha * sst_lowpass[ii, -1] + intercept + xi[ii,0]\n\n    # forecast next 10 years\n    for tt in range(1, n10):\n        pred[tt] = alpha * pred[tt-1] + intercept + xi[ii,tt-1]\n\n    predictions1[ii, :] = pred.copy()\n    ar1_coefficients.append(model_fitted.params[1])  # AR1 coefficient is the lag parameter\n\n# Output AR1 coefficients\nfor i, coeff in enumerate(ar1_coefficients):\n    print(f\"Location {i+1}: AR1 Coefficient = {coeff}\")\n\n# Plot the predictions\nplt.figure(figsize=(8, 3))\nfor ii in range(sst_values.shape[0]):\n    plt.plot(time, sst_lowpass[ii,:], label=f\"Location {ii+1}\")\n    plt.plot(future10, predictions1[ii,:], label=f\"Prediction AR1 {ii+1}\", linestyle='--')\n    ",
      "metadata": {
        "trusted": true
      },
      "outputs": [],
      "execution_count": null
    },
    {
      "id": "f8f6242c-c325-44bf-97dd-0adeca02f412",
      "cell_type": "code",
      "source": "#%% Alternatively lets have a play with different alpha values!\n# using same xi (noise/forcing) as previous but feel free to modify\nalpha_set=.9\npredictions_setalpha = np.full((nloc,n10),np.nan)\n\nfor ii in range(sst_values.shape[0]):\n     # Initialize prediction array for this location\n    pred = np.zeros(n10)\n    \n    # remove mean SST\n    AR_sst=sst_lowpass[ii,:]-np.mean(sst_lowpass[ii,:])\n    \n    pred[0] = alpha_set * AR_sst[-1] + xi[ii,0]\n\n    # forecast next 10 years\n    for tt in range(1, n10):\n        pred[tt] = alpha_set * pred[tt-1] + xi[ii,tt-1]\n    predictions_setalpha[ii, :] = pred.copy()+np.mean(sst_lowpass[ii,:])\n        \n# Plot the predictions\nplt.figure(figsize=(8, 3))\nfor ii in range(sst_values.shape[0]):\n    plt.plot(time, sst_lowpass[ii,:], label=f\"Location {ii+1}\")\n    plt.plot(future10, predictions_setalpha[ii,:], label=f\"Prediction AR1 {ii+1}\", linestyle='--')\n    ",
      "metadata": {
        "trusted": true
      },
      "outputs": [],
      "execution_count": null
    },
    {
      "id": "63c4e142-8df4-4c99-976a-346c9855ec33",
      "cell_type": "code",
      "source": "#%% What if we used a higher-order AR model? Like n10 order?\npredictions10y = np.full((3,n10),np.nan)\nalphas = np.full((3,n10),np.nan)\n\nfor ii in range(sst_values.shape[0]):\n    model = AutoReg(sst_lowpass[ii,:], lags=n10)\n    model_fitted = model.fit()\n    prediction = model_fitted.predict(start=len(time),end=len(time)+n10-1)  # Predict for the next 10 years\n    predictions10y[ii,:]=prediction\n    alphas[ii,:] = model_fitted.params[1:] \n",
      "metadata": {
        "trusted": true
      },
      "outputs": [],
      "execution_count": null
    }
  ]
}